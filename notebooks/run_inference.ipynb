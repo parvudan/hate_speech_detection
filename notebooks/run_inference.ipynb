{
 "cells": [
  {
   "cell_type": "code",
   "execution_count": 1,
   "id": "radio-bankruptcy",
   "metadata": {},
   "outputs": [],
   "source": [
    "import os\n",
    "os.environ[\"CUDA_VISIBLE_DEVICES\"] = \"-1\"\n",
    "import sys\n",
    "sys.path.append(\"..\")\n",
    "import pandas as pd\n",
    "\n",
    "from src.eval_utils import explain_observation\n",
    "from run_inference import load_text_processing_pipeline, load_keras_model"
   ]
  },
  {
   "cell_type": "code",
   "execution_count": 2,
   "id": "specified-basement",
   "metadata": {},
   "outputs": [],
   "source": [
    "preprocess_pipeline = load_text_processing_pipeline('/home/cluster1/Documents/hate_speech_classifier/saved_model/hate_classifier_v2')\n",
    "model = load_keras_model('/home/cluster1/Documents/hate_speech_classifier/saved_model/hate_classifier_v2')"
   ]
  },
  {
   "cell_type": "code",
   "execution_count": 3,
   "id": "pleasant-permit",
   "metadata": {},
   "outputs": [
    {
     "name": "stdin",
     "output_type": "stream",
     "text": [
      "Type in a sentence (or \\q to quit):  He's a retarded feral negro ( yes , feral humans who cannot talk occasionally pop up , having been abandoned as children. ) .\n"
     ]
    },
    {
     "name": "stdout",
     "output_type": "stream",
     "text": [
      "\n",
      "class = \"offensive_language\" (0.6100262403488159)\n"
     ]
    },
    {
     "name": "stdin",
     "output_type": "stream",
     "text": [
      "Type in a sentence (or \\q to quit):  \\q\n"
     ]
    }
   ],
   "source": [
    "while True:\n",
    "    raw_user_input = input('Type in a sentence (or \\q to quit): ')\n",
    "    if raw_user_input == '\\q':\n",
    "        break\n",
    "\n",
    "    user_input = raw_user_input\n",
    "    # preprocess test vector\n",
    "    X_test, _ = preprocess_pipeline.transform(pd.Series(user_input))\n",
    "\n",
    "    # run inference\n",
    "    predicted_prob, predicted = model.predict(X_test)\n",
    "\n",
    "    # print prediction\n",
    "    print(f'\\nclass = \"{predicted[0]}\" ({predicted_prob.max()})')"
   ]
  },
  {
   "cell_type": "code",
   "execution_count": 4,
   "id": "designing-carbon",
   "metadata": {},
   "outputs": [
    {
     "name": "stdout",
     "output_type": "stream",
     "text": [
      "True: offensive_language --> Pred: offensive_language | Prob: 0.61\n"
     ]
    },
    {
     "data": {
      "image/png": "[encoded data removed]",
      "text/plain": [
       "<Figure size 1800x360 with 1 Axes>"
      ]
     },
     "metadata": {
      "needs_background": "light"
     },
     "output_type": "display_data"
    },
    {
     "data": {
      "text/html": [
       "<b><span style=\"background-color:rgba(100,149,237,0.44978246);\">s</span></b> <b><span style=\"background-color:rgba(100,149,237,0.92717767);\">retarded</span></b> feral <b><span style=\"background-color:rgba(100,149,237,0.46940047);\">negro</span></b> <b><span style=\"background-color:rgba(100,149,237,0.1068831);\">yes</span></b> feral <b><span style=\"background-color:rgba(100,149,237,0.0);\">human</span></b> <b><span style=\"background-color:rgba(100,149,237,1.0);\">talk</span></b> <b><span style=\"background-color:rgba(100,149,237,0.43777326);\">occasionally</span></b> <b><span style=\"background-color:rgba(100,149,237,0.15919217);\">pop</span></b> abandon <b><span style=\"background-color:rgba(100,149,237,0.54387754);\">child</span></b>"
      ],
      "text/plain": [
       "<IPython.core.display.HTML object>"
      ]
     },
     "metadata": {},
     "output_type": "display_data"
    }
   ],
   "source": [
    "cleaned_text = preprocess_pipeline['normalize'].transform(pd.Series(user_input))\n",
    "observation_dict = {\n",
    "    'text': cleaned_text.iloc[0],\n",
    "    'label': predicted[0],\n",
    "    'predicted': predicted[0],\n",
    "    'prediction_prob': predicted_prob.max()\n",
    "}\n",
    "\n",
    "nlp_dict = {\n",
    "    'bigrams_detector': preprocess_pipeline['features'].ngrams_detector_list[0],\n",
    "    'trigrams_detector': preprocess_pipeline['features'].ngrams_detector_list[1],\n",
    "    'tokenizer': preprocess_pipeline['features'].fitted_tokenizer,\n",
    "    'model': model.model\n",
    "}\n",
    "\n",
    "html_text = explain_observation(observation_dict, nlp_dict, top=10)"
   ]
  }
 ],
 "metadata": {
  "kernelspec": {
   "display_name": "Python 3",
   "language": "python",
   "name": "python3"
  },
  "language_info": {
   "codemirror_mode": {
    "name": "ipython",
    "version": 3
   },
   "file_extension": ".py",
   "mimetype": "text/x-python",
   "name": "python",
   "nbconvert_exporter": "python",
   "pygments_lexer": "ipython3",
   "version": "3.8.5"
  }
 },
 "nbformat": 4,
 "nbformat_minor": 5
}
